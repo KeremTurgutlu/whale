{
 "cells": [
  {
   "cell_type": "markdown",
   "metadata": {},
   "source": [
    "### Summary: Implementing Few Shot Learning\n",
    "\n",
    "**Different Strategies:**\n",
    "\n",
    "\"What I cannot create, I do not understand\" - Richard Feynman\n",
    "\n",
    "- ArcLoss Paper: https://arxiv.org/pdf/1801.07698.pdf\n",
    "- Blog on Metric Learning: https://index.pocketcluster.io/adambielski-siamese-triplet.html\n",
    "\n",
    "\n",
    "- 1) Siamese\n",
    "- 2) Triplet\n",
    "- 3) ArcLoss\n",
    "- 4) ..."
   ]
  },
  {
   "cell_type": "code",
   "execution_count": 5,
   "metadata": {},
   "outputs": [],
   "source": [
    "%load_ext autoreload\n",
    "%autoreload 2"
   ]
  },
  {
   "cell_type": "code",
   "execution_count": 6,
   "metadata": {},
   "outputs": [],
   "source": [
    "%matplotlib inline\n",
    "import matplotlib.pyplot as plt\n",
    "import pandas as pd\n",
    "import numpy as np\n",
    "from pathlib import Path\n",
    "\n",
    "from fastai import *\n",
    "from fastai.vision import *\n",
    "from ipyexperiments import *"
   ]
  },
  {
   "cell_type": "markdown",
   "metadata": {},
   "source": [
    "### Base Loss Functions"
   ]
  },
  {
   "cell_type": "code",
   "execution_count": 7,
   "metadata": {},
   "outputs": [],
   "source": [
    "# https://www.quora.com/What-is-a-contrastive-loss-function-in-Siamese-networks\n",
    "class ContrastiveLoss(nn.Module):\n",
    "    def __init__(self, distfunc, margin):\n",
    "        \"\"\"\n",
    "        dfunc : any distance function\n",
    "        margin : margin for different class embeddings - min distance\n",
    "        \"\"\"\n",
    "        super().__init__()\n",
    "        self.distfunc = distfunc\n",
    "        self.margin = margin\n",
    "    def forward(self, input, target):\n",
    "        \"\"\"\n",
    "        input: 2 vectors bs x [x1,x2]\n",
    "        target: bs x [0,1]\n",
    "        \"\"\"\n",
    "        dist = self.distfunc(*input)\n",
    "        return torch.mean(((1 - target)*(dist)**2 + \n",
    "                0.5*(target)*(F.relu(self.margin - dist)**2)), dim=-1)"
   ]
  },
  {
   "cell_type": "code",
   "execution_count": 8,
   "metadata": {},
   "outputs": [],
   "source": [
    "# choosing cosine dist to set margin easier since it represents an angle\n",
    "def cosine_dist(x1, x2): return 1 - F.cosine_similarity(x1,x2)"
   ]
  },
  {
   "cell_type": "code",
   "execution_count": 81,
   "metadata": {},
   "outputs": [],
   "source": [
    "x1 = torch.randn((5,2))\n",
    "x2 = torch.randn((5,2))\n",
    "gt = torch.randint(high=2, size=(5,)).float() \n",
    "loss = ContrastiveLoss(distfunc=cosine_dist, margin=0.8)"
   ]
  },
  {
   "cell_type": "code",
   "execution_count": 82,
   "metadata": {},
   "outputs": [
    {
     "data": {
      "text/plain": [
       "tensor(0.1920)"
      ]
     },
     "execution_count": 82,
     "metadata": {},
     "output_type": "execute_result"
    }
   ],
   "source": [
    "loss((x1, x1), gt)"
   ]
  },
  {
   "cell_type": "code",
   "execution_count": 9,
   "metadata": {},
   "outputs": [],
   "source": [
    "# https://www.coursera.org/lecture/convolutional-neural-networks/triplet-loss-HuUtN\n",
    "class TripletLoss(nn.Module):\n",
    "    def __init__(self, distfunc, margin):\n",
    "        \"\"\"\n",
    "        dfunc : any distance function\n",
    "        margin : margin for different class embeddings - min distance\n",
    "        \"\"\"\n",
    "        super().__init__()\n",
    "        self.distfunc = distfunc\n",
    "        self.margin = margin\n",
    "    def forward(self, input):\n",
    "        \"\"\"\n",
    "        input: 3 vectors (anchor, pos, neg) bs x [x1,x2,x3]\n",
    "        target: bs x [0,1]\n",
    "        \"\"\"\n",
    "        pos_dist = self.distfunc(input[0], input[1])\n",
    "        neg_dist = self.distfunc(input[0], input[2])\n",
    "        return torch.mean(F.relu(pos_dist - neg_dist + self.margin), dim=-1)"
   ]
  },
  {
   "cell_type": "code",
   "execution_count": 90,
   "metadata": {},
   "outputs": [],
   "source": [
    "x1 = torch.randn((5,2)) # anchor\n",
    "x2 = torch.randn((5,2)) # pos\n",
    "x3 = torch.randn((5,2)) # neg\n",
    "loss = TripletLoss(distfunc=cosine_dist, margin=0.4)"
   ]
  },
  {
   "cell_type": "code",
   "execution_count": 91,
   "metadata": {},
   "outputs": [
    {
     "data": {
      "text/plain": [
       "tensor(0.9296)"
      ]
     },
     "execution_count": 91,
     "metadata": {},
     "output_type": "execute_result"
    }
   ],
   "source": [
    "loss((x1,x2,x3))"
   ]
  },
  {
   "cell_type": "markdown",
   "metadata": {},
   "source": [
    "### Hard Example Mining\n",
    "\n",
    "- Some inspiration from: https://www.kaggle.com/martinpiotte/whale-recognition-model-with-score-0-78563\n",
    "- It constructs hard pairs `at the beginning of each epoch`\n",
    "\n",
    "#### Matching whale examples\n",
    "Half the examples used during training are for pair of images. For each whale of the training set, compute a [derangement](https://en.wikipedia.org/wiki/Derangement) of its pictures. Use the original order as picture A, and the derangment as picture B. This creates a random number of matching image pairs, with each image taken exactly two times.\n",
    "\n",
    "#### Different whales examples\n",
    "Different whales examples are generated by computing a derangement of all pictures from the training set, subject to:\n",
    "\n",
    "- The image pairs must belong to different whales;\n",
    "- The pairs formed must be difficult for the model to distinguish.\n",
    "\n",
    "The following algorith is used to generate the pairs:\n",
    "\n",
    "- The similarity between each pair of image is computed using the current model state. This has complexity  n(n−1)2 , where n is the size of the training set. Fortunately, only the head model must be computed for all pairs, and it is very fast. The 512-feature vectors can be pre-computed once for each image, i.e. O(n) complexity.\n",
    "- Entry that correpond to pair of images from the same whale are set with similarity  −∞ .\n",
    "- [Linear sum assignment algorithm](https://en.wikipedia.org/wiki/Assignment_problem) is used to find the most difficult matching.\n",
    "- To randomize the selection, and control the matching difficulty, we add a random matrix to the cost matrix from step #1 . The random matrix has values uniformly distributed between 0 and K. The larger K, the more random the matching. The smaller K, the more difficult the pairing is for the model.\n",
    "- To produce different matching for successive epochs, the selected entries in the matrix are overwritten with  −∞  to force an alternate selection for the next matching."
   ]
  },
  {
   "cell_type": "code",
   "execution_count": 10,
   "metadata": {},
   "outputs": [],
   "source": [
    "class HardExampleMiner:\n",
    "    def __init__(self):\n",
    "        \"\"\"\n",
    "        1. The number of possible pairs/triplets grows \n",
    "        quadratically/cubically with the number of examples.\n",
    "        It's infeasible to process them all and the training converges slowly.\n",
    "        \n",
    "        2. We generate pairs/triplets randomly. As the training continues,\n",
    "        more and more pairs/triplets are easy to deal with (their loss value\n",
    "        is very small or even 0), preventing the network from training.\n",
    "        We need to provide the network with hard examples.\n",
    "        \n",
    "        3. Each image that is fed to the network is used only for computation\n",
    "        of contrastive/triplet loss for only one pair/triplet. The computation \n",
    "        is somewhat wasted; once the embedding is computed, it could be reused\n",
    "        for many pairs/triplets.\n",
    "        \"\"\"\n",
    "        pass\n",
    "        \n",
    "    def get_pairs(self, x, target):\n",
    "        \"\"\"\n",
    "        get hard pairs from embeddings x for a loss like ContrastiveLoss\n",
    "        return (x1, x2, gt)\n",
    "        \"\"\"\n",
    "        pass\n",
    "        \n",
    "        \n",
    "    def get_triplets(self, x, target):\n",
    "        \"\"\"\n",
    "        get hard triplets from embeddings x for a loss like ContrastiveLoss\n",
    "        return (x1, x2, x3)\n",
    "        \"\"\"\n",
    "        pass"
   ]
  },
  {
   "cell_type": "code",
   "execution_count": 11,
   "metadata": {},
   "outputs": [],
   "source": [
    "class OnlineContrastiveLoss(nn.Module):\n",
    "    def __init__(self, distfunc, margin):\n",
    "        self.loss = ContrastiveLoss(distfunc, margin)\n",
    "        self.miner = HardExampleMiner()\n",
    "    \n",
    "    def forward(self, input, target):\n",
    "        \"\"\"\n",
    "        input: batch of embeddings\n",
    "        target: class of each image\n",
    "        \"\"\"\n",
    "        x1, x2, gt = self.miner.get_pairs(input, target)\n",
    "        return self.loss(*(x1, x2, gt), target)\n",
    "\n",
    "class OnlineTripletLoss(nn.Module):\n",
    "    def __init__(self, distfunc, margin):\n",
    "        self.loss = TripletLoss(distfunc, margin)\n",
    "        self.miner = HardExampleMiner()\n",
    "    \n",
    "    def forward(self, input, target):\n",
    "        \"\"\"\n",
    "        input: batch of embeddings\n",
    "        target: class of each image\n",
    "        \"\"\"\n",
    "        x1, x2, x3 = self.miner.get_triplets(input, target)\n",
    "        return self.loss(*(x1, x2, x3))"
   ]
  },
  {
   "cell_type": "code",
   "execution_count": 104,
   "metadata": {},
   "outputs": [],
   "source": [
    "# sample embeddings\n",
    "x = torch.randn((128, 512))\n",
    "classes = torch.randint(high=5, size=(128,)).float() # 5 classes"
   ]
  },
  {
   "cell_type": "code",
   "execution_count": 100,
   "metadata": {},
   "outputs": [
    {
     "data": {
      "text/plain": [
       "tensor([[-0.5800,  0.7002, -0.0628,  ...,  0.5343,  2.0133, -0.2822],\n",
       "        [ 0.5305, -0.5347,  2.0530,  ...,  0.5491,  0.5270, -1.3611],\n",
       "        [-0.9309, -0.9566,  0.3007,  ..., -0.1167, -1.1404,  0.6026],\n",
       "        ...,\n",
       "        [-2.1967, -0.0480,  0.0456,  ...,  0.9032,  0.9429,  0.7735],\n",
       "        [-0.2778,  1.6275, -0.0278,  ...,  0.0873,  0.3107, -0.2121],\n",
       "        [ 0.8474, -2.8168,  1.1796,  ...,  1.6893, -1.5805,  0.7956]])"
      ]
     },
     "execution_count": 100,
     "metadata": {},
     "output_type": "execute_result"
    }
   ],
   "source": [
    "x"
   ]
  },
  {
   "cell_type": "code",
   "execution_count": 105,
   "metadata": {},
   "outputs": [
    {
     "data": {
      "text/plain": [
       "tensor([0., 1., 0., 4., 1., 4., 3., 1., 2., 3., 0., 2., 0., 4., 3., 2., 3., 4.,\n",
       "        4., 2., 0., 2., 1., 2., 3., 1., 2., 0., 4., 4., 2., 3., 0., 1., 1., 0.,\n",
       "        1., 1., 4., 3., 0., 1., 1., 3., 2., 0., 1., 4., 1., 0., 2., 2., 1., 2.,\n",
       "        4., 4., 1., 1., 1., 1., 2., 1., 3., 2., 2., 0., 2., 2., 1., 3., 3., 3.,\n",
       "        2., 0., 2., 3., 2., 0., 1., 1., 1., 1., 1., 3., 0., 4., 0., 4., 0., 1.,\n",
       "        0., 1., 2., 2., 2., 2., 2., 0., 1., 0., 4., 0., 4., 0., 4., 0., 4., 4.,\n",
       "        0., 0., 1., 2., 3., 0., 3., 0., 1., 3., 4., 1., 4., 1., 4., 0., 3., 4.,\n",
       "        4., 2.])"
      ]
     },
     "execution_count": 105,
     "metadata": {},
     "output_type": "execute_result"
    }
   ],
   "source": [
    "# a batch of 128 unique images\n",
    "classes"
   ]
  },
  {
   "cell_type": "code",
   "execution_count": 109,
   "metadata": {},
   "outputs": [],
   "source": [
    "# all pairs and triplets\n",
    "npairs, ntriplets = int(128*127/2), int(128*127*126/6)"
   ]
  },
  {
   "cell_type": "code",
   "execution_count": 114,
   "metadata": {},
   "outputs": [],
   "source": [
    "constloss = ContrastiveLoss(distfunc=cosine_dist, margin=0.8)"
   ]
  },
  {
   "cell_type": "code",
   "execution_count": 121,
   "metadata": {},
   "outputs": [],
   "source": [
    "x1 = torch.randn((npairs, 512))\n",
    "x2 = torch.randn((npairs, 512))\n",
    "gt = torch.randint(size=(npairs,), high=2).float()"
   ]
  },
  {
   "cell_type": "code",
   "execution_count": 122,
   "metadata": {},
   "outputs": [
    {
     "data": {
      "text/plain": [
       "(torch.Size([8128, 512]), torch.Size([8128, 512]), torch.Size([8128]))"
      ]
     },
     "execution_count": 122,
     "metadata": {},
     "output_type": "execute_result"
    }
   ],
   "source": [
    "x1.shape, x2.shape, gt.shape"
   ]
  },
  {
   "cell_type": "code",
   "execution_count": 124,
   "metadata": {},
   "outputs": [
    {
     "name": "stdout",
     "output_type": "stream",
     "text": [
      "CPU times: user 16 ms, sys: 0 ns, total: 16 ms\n",
      "Wall time: 15.1 ms\n"
     ]
    },
    {
     "data": {
      "text/plain": [
       "tensor(0.4852)"
      ]
     },
     "execution_count": 124,
     "metadata": {},
     "output_type": "execute_result"
    }
   ],
   "source": [
    "%%time\n",
    "constloss((x1, x2), gt)"
   ]
  },
  {
   "cell_type": "code",
   "execution_count": 127,
   "metadata": {},
   "outputs": [],
   "source": [
    "tripletloss = TripletLoss(distfunc=cosine_dist, margin=0.3)"
   ]
  },
  {
   "cell_type": "code",
   "execution_count": 125,
   "metadata": {},
   "outputs": [],
   "source": [
    "x1 = torch.randn((ntriplets, 512))\n",
    "x2 = torch.randn((ntriplets, 512))\n",
    "x3 = torch.randn((ntriplets,512))"
   ]
  },
  {
   "cell_type": "code",
   "execution_count": 126,
   "metadata": {},
   "outputs": [
    {
     "data": {
      "text/plain": [
       "(torch.Size([341376, 512]),\n",
       " torch.Size([341376, 512]),\n",
       " torch.Size([341376, 512]))"
      ]
     },
     "execution_count": 126,
     "metadata": {},
     "output_type": "execute_result"
    }
   ],
   "source": [
    "x1.shape, x2.shape, x3.shape"
   ]
  },
  {
   "cell_type": "code",
   "execution_count": 130,
   "metadata": {},
   "outputs": [
    {
     "name": "stdout",
     "output_type": "stream",
     "text": [
      "CPU times: user 1.23 s, sys: 304 ms, total: 1.53 s\n",
      "Wall time: 1.93 s\n"
     ]
    },
    {
     "data": {
      "text/plain": [
       "tensor(0.3001)"
      ]
     },
     "execution_count": 130,
     "metadata": {},
     "output_type": "execute_result"
    }
   ],
   "source": [
    "%%time\n",
    "tripletloss((x1,x2,x3))"
   ]
  },
  {
   "cell_type": "code",
   "execution_count": 1,
   "metadata": {},
   "outputs": [
    {
     "data": {
      "text/plain": [
       "399980000"
      ]
     },
     "execution_count": 1,
     "metadata": {},
     "output_type": "execute_result"
    }
   ],
   "source": [
    "20000*19999"
   ]
  },
  {
   "cell_type": "code",
   "execution_count": null,
   "metadata": {},
   "outputs": [],
   "source": []
  },
  {
   "cell_type": "markdown",
   "metadata": {},
   "source": [
    "### begin"
   ]
  },
  {
   "cell_type": "code",
   "execution_count": 12,
   "metadata": {},
   "outputs": [],
   "source": [
    "data_path = Path('../data/whale/')"
   ]
  },
  {
   "cell_type": "code",
   "execution_count": 13,
   "metadata": {},
   "outputs": [
    {
     "data": {
      "text/plain": [
       "[PosixPath('../data/whale/cropped_test'),\n",
       " PosixPath('../data/whale/cropped_training'),\n",
       " PosixPath('../data/whale/models'),\n",
       " PosixPath('../data/whale/submissions'),\n",
       " PosixPath('../data/whale/test'),\n",
       " PosixPath('../data/whale/test_csv_2.csv'),\n",
       " PosixPath('../data/whale/train'),\n",
       " PosixPath('../data/whale/train.csv'),\n",
       " PosixPath('../data/whale/train_csv_2.csv')]"
      ]
     },
     "execution_count": 13,
     "metadata": {},
     "output_type": "execute_result"
    }
   ],
   "source": [
    "sorted(data_path.ls())"
   ]
  },
  {
   "cell_type": "code",
   "execution_count": 14,
   "metadata": {},
   "outputs": [],
   "source": [
    "train = pd.read_csv(data_path/'train.csv')"
   ]
  },
  {
   "cell_type": "code",
   "execution_count": 15,
   "metadata": {},
   "outputs": [
    {
     "data": {
      "text/html": [
       "<div>\n",
       "<style scoped>\n",
       "    .dataframe tbody tr th:only-of-type {\n",
       "        vertical-align: middle;\n",
       "    }\n",
       "\n",
       "    .dataframe tbody tr th {\n",
       "        vertical-align: top;\n",
       "    }\n",
       "\n",
       "    .dataframe thead th {\n",
       "        text-align: right;\n",
       "    }\n",
       "</style>\n",
       "<table border=\"1\" class=\"dataframe\">\n",
       "  <thead>\n",
       "    <tr style=\"text-align: right;\">\n",
       "      <th></th>\n",
       "      <th>Image</th>\n",
       "      <th>Id</th>\n",
       "    </tr>\n",
       "  </thead>\n",
       "  <tbody>\n",
       "    <tr>\n",
       "      <th>0</th>\n",
       "      <td>0000e88ab.jpg</td>\n",
       "      <td>w_f48451c</td>\n",
       "    </tr>\n",
       "    <tr>\n",
       "      <th>1</th>\n",
       "      <td>0001f9222.jpg</td>\n",
       "      <td>w_c3d896a</td>\n",
       "    </tr>\n",
       "    <tr>\n",
       "      <th>2</th>\n",
       "      <td>00029d126.jpg</td>\n",
       "      <td>w_20df2c5</td>\n",
       "    </tr>\n",
       "    <tr>\n",
       "      <th>3</th>\n",
       "      <td>00050a15a.jpg</td>\n",
       "      <td>new_whale</td>\n",
       "    </tr>\n",
       "    <tr>\n",
       "      <th>4</th>\n",
       "      <td>0005c1ef8.jpg</td>\n",
       "      <td>new_whale</td>\n",
       "    </tr>\n",
       "  </tbody>\n",
       "</table>\n",
       "</div>"
      ],
      "text/plain": [
       "           Image         Id\n",
       "0  0000e88ab.jpg  w_f48451c\n",
       "1  0001f9222.jpg  w_c3d896a\n",
       "2  00029d126.jpg  w_20df2c5\n",
       "3  00050a15a.jpg  new_whale\n",
       "4  0005c1ef8.jpg  new_whale"
      ]
     },
     "execution_count": 15,
     "metadata": {},
     "output_type": "execute_result"
    }
   ],
   "source": [
    "train.head()"
   ]
  },
  {
   "cell_type": "code",
   "execution_count": 16,
   "metadata": {},
   "outputs": [
    {
     "name": "stdout",
     "output_type": "stream",
     "text": [
      "number of whale ids with single image: 2073\n",
      "number of unique whale ids in training: 5005\n"
     ]
    }
   ],
   "source": [
    "# whale id image counts - number of whale ids with only single image\n",
    "w_counts = train.groupby(['Id'])['Id'].count().sort_values(ascending=False)\n",
    "print(f\"number of whale ids with single image: {sum(w_counts == 1)}\")\n",
    "print(f\"number of unique whale ids in training: {len(w_counts)}\")\n",
    "w2counts = dict(w_counts)\n",
    "counts2w = {w2counts[k]:k for k in w2counts}\n",
    "w2fnames = dict(train.groupby(['Id'])['Image'].apply(lambda x: list(x)))"
   ]
  },
  {
   "cell_type": "code",
   "execution_count": 17,
   "metadata": {},
   "outputs": [
    {
     "data": {
      "text/plain": [
       "[('w_ff94900', ['5ac086036.jpg']),\n",
       " ('w_ffa542b', ['4f9e431aa.jpg', '8abea550e.jpg', 'cd3a073a2.jpg']),\n",
       " ('w_ffa6d42', ['9dd320bb3.jpg']),\n",
       " ('w_ffcf5fe', ['d3967e1df.jpg']),\n",
       " ('w_ffe8693', ['df4bbd82a.jpg'])]"
      ]
     },
     "execution_count": 17,
     "metadata": {},
     "output_type": "execute_result"
    }
   ],
   "source": [
    "list(w2fnames.items())[-5:]"
   ]
  },
  {
   "cell_type": "markdown",
   "metadata": {},
   "source": [
    "# Databunch\n",
    "\n"
   ]
  },
  {
   "cell_type": "code",
   "execution_count": 18,
   "metadata": {},
   "outputs": [],
   "source": [
    "# classes\n",
    "idx2w = dict(enumerate(w2counts.keys()))\n",
    "w2idx = {idx2w[k]:k for k in idx2w}\n",
    "classes = list(w2counts.keys())"
   ]
  },
  {
   "cell_type": "code",
   "execution_count": 19,
   "metadata": {},
   "outputs": [
    {
     "data": {
      "text/plain": [
       "(['new_whale', 'w_23a388d', 'w_9b5109b'], 5005)"
      ]
     },
     "execution_count": 19,
     "metadata": {},
     "output_type": "execute_result"
    }
   ],
   "source": [
    "classes[:3], len(classes)"
   ]
  },
  {
   "cell_type": "code",
   "execution_count": 20,
   "metadata": {},
   "outputs": [
    {
     "name": "stdout",
     "output_type": "stream",
     "text": [
      "unique classes in train : 5005\n",
      "unique classes in valid: 2932\n",
      "unique classes with single image: 2073\n"
     ]
    }
   ],
   "source": [
    "# Validation fnames\n",
    "np.random.seed(42)\n",
    "train_fnames = []\n",
    "valid_fnames = []\n",
    "val_ratio = 0.1\n",
    "for _, fnames in w2fnames.items():\n",
    "    if len(fnames) == 1:\n",
    "        train_fnames += fnames\n",
    "    else:\n",
    "        n = len(fnames)\n",
    "        n_val = max(1, int(n*val_ratio)) \n",
    "        fnames = np.random.permutation(fnames)\n",
    "        train_fnames += list(fnames[n_val:])\n",
    "        valid_fnames += list(fnames[:n_val])\n",
    "\n",
    "len(train_fnames), len(valid_fnames)\n",
    "\n",
    "train_df = train[train.Image.isin(train_fnames)].reset_index(drop=True)\n",
    "valid_df = train[train.Image.isin(valid_fnames)].reset_index(drop=True)\n",
    "\n",
    "print(f\"unique classes in train : {train_df['Id'].nunique()}\")\n",
    "print(f\"unique classes in valid: {valid_df['Id'].nunique()}\")\n",
    "print(f\"unique classes with single image: {train_df['Id'].nunique() - valid_df['Id'].nunique()}\")"
   ]
  },
  {
   "cell_type": "code",
   "execution_count": 91,
   "metadata": {},
   "outputs": [],
   "source": [
    "def get_data(train_df,\n",
    "             valid_fnames,\n",
    "             bs=64,\n",
    "             size=(112,224),\n",
    "             train_folder='cropped_training',\n",
    "             test_folder='cropped_test',\n",
    "             stats=imagenet_stats):\n",
    "    \"\"\"\n",
    "    cosntruct from dataframe [Image, Id] and validation fnames from Image col\n",
    "    \"\"\"\n",
    "    itemlist = ImageItemList.from_df(train_df, data_path, folder=train_folder,\n",
    "                                     cols=['Image'])\n",
    "    itemlists = itemlist.split_by_valid_func(lambda item: True if\n",
    "                                             Path(item).name in valid_fnames else False)\n",
    "    labellists = itemlists.label_from_df()\n",
    "    labellists = labellists.add_test(ImageItemList.from_folder(data_path/test_folder))\n",
    "    data = (labellists.transform(get_transforms(do_flip=False,\n",
    "                                                max_zoom=1.1,\n",
    "                                                max_warp=0),\n",
    "                                 size=size,\n",
    "                                 resize_method=ResizeMethod.SQUISH, \n",
    "                                 # ResizeMethod.SQUISH forces (112, 224) to (128,224)\n",
    "                                 padding_mode='border')\n",
    "                      .databunch(bs=bs)\n",
    "                      .normalize(stats))\n",
    "    return data"
   ]
  },
  {
   "cell_type": "code",
   "execution_count": 92,
   "metadata": {},
   "outputs": [
    {
     "data": {
      "text/html": [
       "<div>\n",
       "<style scoped>\n",
       "    .dataframe tbody tr th:only-of-type {\n",
       "        vertical-align: middle;\n",
       "    }\n",
       "\n",
       "    .dataframe tbody tr th {\n",
       "        vertical-align: top;\n",
       "    }\n",
       "\n",
       "    .dataframe thead th {\n",
       "        text-align: right;\n",
       "    }\n",
       "</style>\n",
       "<table border=\"1\" class=\"dataframe\">\n",
       "  <thead>\n",
       "    <tr style=\"text-align: right;\">\n",
       "      <th></th>\n",
       "      <th>Image</th>\n",
       "      <th>Id</th>\n",
       "    </tr>\n",
       "  </thead>\n",
       "  <tbody>\n",
       "    <tr>\n",
       "      <th>0</th>\n",
       "      <td>0000e88ab.jpg</td>\n",
       "      <td>w_f48451c</td>\n",
       "    </tr>\n",
       "    <tr>\n",
       "      <th>1</th>\n",
       "      <td>0001f9222.jpg</td>\n",
       "      <td>w_c3d896a</td>\n",
       "    </tr>\n",
       "  </tbody>\n",
       "</table>\n",
       "</div>"
      ],
      "text/plain": [
       "           Image         Id\n",
       "0  0000e88ab.jpg  w_f48451c\n",
       "1  0001f9222.jpg  w_c3d896a"
      ]
     },
     "execution_count": 92,
     "metadata": {},
     "output_type": "execute_result"
    }
   ],
   "source": [
    "train.head(2)"
   ]
  },
  {
   "cell_type": "code",
   "execution_count": 93,
   "metadata": {},
   "outputs": [],
   "source": [
    "data = get_data(train, valid_fnames=valid_fnames, size=(224,448))"
   ]
  },
  {
   "cell_type": "code",
   "execution_count": 171,
   "metadata": {},
   "outputs": [
    {
     "name": "stdout",
     "output_type": "stream",
     "text": [
      "torch.Size([3, 224, 448])\n"
     ]
    },
    {
     "data": {
      "image/jpeg": "[encoded data removed]",
      "image/png": "[encoded data removed]",
      "text/plain": [
       "Image (3, 224, 448)"
      ]
     },
     "execution_count": 171,
     "metadata": {},
     "output_type": "execute_result"
    }
   ],
   "source": [
    "i = np.random.choice(range(len(data.test_ds)))\n",
    "print(data.train_ds[i][0].data.size()); data.train_ds[i][0]"
   ]
  },
  {
   "cell_type": "code",
   "execution_count": 186,
   "metadata": {},
   "outputs": [
    {
     "data": {
      "text/plain": [
       "[('w_b7ec7f8', 1),\n",
       " ('w_55fffeb', 1),\n",
       " ('w_55782b0', 1),\n",
       " ('w_55ef07b', 1),\n",
       " ('w_55ed30b', 1),\n",
       " ('w_55e0064', 1),\n",
       " ('w_b82d0eb', 1),\n",
       " ('w_5591cd8', 1),\n",
       " ('w_b860053', 1),\n",
       " ('w_ffe8693', 1)]"
      ]
     },
     "execution_count": 186,
     "metadata": {},
     "output_type": "execute_result"
    }
   ],
   "source": [
    "list(w2counts.items())[-10:]"
   ]
  },
  {
   "cell_type": "code",
   "execution_count": 214,
   "metadata": {
    "scrolled": true
   },
   "outputs": [],
   "source": [
    "train = train.reset_index()[['Image', 'Id', 'index']]"
   ]
  },
  {
   "cell_type": "code",
   "execution_count": 218,
   "metadata": {
    "scrolled": true
   },
   "outputs": [],
   "source": [
    "w2idx = dict(train.groupby('Id').apply(lambda x: list(x['index'])))"
   ]
  },
  {
   "cell_type": "code",
   "execution_count": 219,
   "metadata": {},
   "outputs": [
    {
     "data": {
      "text/plain": [
       "[('w_ff3efba', [17746]),\n",
       " ('w_ff5fc91', [7031, 21237]),\n",
       " ('w_ff6065f', [6865]),\n",
       " ('w_ff65f67', [14668]),\n",
       " ('w_ff7a4ae', [9884]),\n",
       " ('w_ff94900', [8926]),\n",
       " ('w_ffa542b', [7899, 13772, 20368]),\n",
       " ('w_ffa6d42', [15665]),\n",
       " ('w_ffcf5fe', [21003]),\n",
       " ('w_ffe8693', [22207])]"
      ]
     },
     "execution_count": 219,
     "metadata": {},
     "output_type": "execute_result"
    }
   ],
   "source": [
    "list(w2idx.items())[-10:]"
   ]
  },
  {
   "cell_type": "markdown",
   "metadata": {},
   "source": [
    "# Training"
   ]
  },
  {
   "cell_type": "code",
   "execution_count": 95,
   "metadata": {},
   "outputs": [],
   "source": [
    "from utils import map5\n",
    "from fastai.callbacks import EarlyStoppingCallback, TerminateOnNaNCallback, ReduceLROnPlateauCallback\n",
    "from fastai.train import BnFreeze"
   ]
  },
  {
   "cell_type": "code",
   "execution_count": 96,
   "metadata": {},
   "outputs": [
    {
     "data": {
      "text/plain": [
       "0.2401193139448173"
      ]
     },
     "execution_count": 96,
     "metadata": {},
     "output_type": "execute_result"
    }
   ],
   "source": [
    "# validation baseline accuracy\n",
    "np.mean(train[train['Image'].isin(valid_fnames)]['Id'] == 'new_whale')"
   ]
  },
  {
   "cell_type": "code",
   "execution_count": 97,
   "metadata": {},
   "outputs": [],
   "source": [
    "# define calllbacks\n",
    "early_stopping = partial(EarlyStoppingCallback, monitor=\"map5\", mode=\"max\", patience=10)\n",
    "terminate_nan = TerminateOnNaNCallback()\n",
    "reduce_lr = partial(ReduceLROnPlateauCallback, monitor=\"map5\", mode='max',\n",
    "                    patience=5, factor=0.7)"
   ]
  },
  {
   "cell_type": "markdown",
   "metadata": {},
   "source": [
    "### Baseline Siamese\n",
    "\n",
    "**Steps**\n",
    "\n",
    "- At beginning of a epoch generate good pairs to train for a while:\n",
    "    - Compute embeddings of each image\n",
    "    - Select matching pairs\n",
    "    - Select unmatching pairs\n",
    "    - Create data from equal matching-unmatching pairs"
   ]
  },
  {
   "cell_type": "code",
   "execution_count": 189,
   "metadata": {},
   "outputs": [],
   "source": [
    "train_known = train[train.Id != 'new_whale']"
   ]
  },
  {
   "cell_type": "code",
   "execution_count": 190,
   "metadata": {},
   "outputs": [
    {
     "data": {
      "text/plain": [
       "(15697, 2)"
      ]
     },
     "execution_count": 190,
     "metadata": {},
     "output_type": "execute_result"
    }
   ],
   "source": [
    "train_known.shape"
   ]
  },
  {
   "cell_type": "code",
   "execution_count": 191,
   "metadata": {},
   "outputs": [],
   "source": [
    "# embedding extractor model\n",
    "cnn_body = nn.Sequential(*[create_body(arch=models.resnet50, pretrained=True),\n",
    "                           AdaptiveConcatPool2d(),\n",
    "                           Flatten()])"
   ]
  },
  {
   "cell_type": "code",
   "execution_count": 193,
   "metadata": {
    "scrolled": true
   },
   "outputs": [],
   "source": [
    "data = get_data(train_known.sample(1000), valid_fnames=[], size=(224,448))"
   ]
  },
  {
   "cell_type": "code",
   "execution_count": 201,
   "metadata": {},
   "outputs": [],
   "source": [
    "learner = Learner(data=data, model=cnn_body)"
   ]
  },
  {
   "cell_type": "code",
   "execution_count": null,
   "metadata": {},
   "outputs": [],
   "source": [
    "learner.get_preds()"
   ]
  },
  {
   "cell_type": "code",
   "execution_count": 198,
   "metadata": {},
   "outputs": [
    {
     "data": {
      "text/plain": [
       "array(['../data/whale/cropped_training/9d456a88d.jpg', '../data/whale/cropped_training/e5aa8cc13.jpg',\n",
       "       '../data/whale/cropped_training/27f8d73bc.jpg', '../data/whale/cropped_training/4b93d466a.jpg', ...,\n",
       "       '../data/whale/cropped_training/12d78ba10.jpg', '../data/whale/cropped_training/d6cd256bf.jpg',\n",
       "       '../data/whale/cropped_training/f7af1b985.jpg', '../data/whale/cropped_training/e24dc24b8.jpg'], dtype='<U45')"
      ]
     },
     "execution_count": 198,
     "metadata": {},
     "output_type": "execute_result"
    }
   ],
   "source": [
    "data.train_ds.items"
   ]
  },
  {
   "cell_type": "code",
   "execution_count": 194,
   "metadata": {},
   "outputs": [],
   "source": [
    "bx, by = data.one_batch()"
   ]
  },
  {
   "cell_type": "code",
   "execution_count": 196,
   "metadata": {
    "scrolled": true
   },
   "outputs": [
    {
     "data": {
      "text/plain": [
       "(torch.Size([64, 3, 224, 448]), torch.Size([64]))"
      ]
     },
     "execution_count": 196,
     "metadata": {},
     "output_type": "execute_result"
    }
   ],
   "source": [
    "bx.shape, by.shape"
   ]
  },
  {
   "cell_type": "code",
   "execution_count": 182,
   "metadata": {},
   "outputs": [],
   "source": [
    "embeddings = cnn_body(bx)"
   ]
  },
  {
   "cell_type": "code",
   "execution_count": 183,
   "metadata": {},
   "outputs": [
    {
     "data": {
      "text/plain": [
       "torch.Size([64, 4096])"
      ]
     },
     "execution_count": 183,
     "metadata": {},
     "output_type": "execute_result"
    }
   ],
   "source": [
    "embeddings.shape"
   ]
  },
  {
   "cell_type": "code",
   "execution_count": 184,
   "metadata": {},
   "outputs": [
    {
     "data": {
      "text/plain": [
       "tensor([ 626, 3131,  750, 1609, 2934, 3658,    0,    0,    0, 4770,    0, 2135,\n",
       "           0,    0, 4812, 1026, 3029, 3353,    0,    0,    0,    0, 2807,    0,\n",
       "        1106, 3857, 4964, 2538,    0,    0,    0,    0,    0,    0, 4585,  624,\n",
       "        2641,    0,    0,    0,    0, 4557, 2508, 2342,    0, 3488, 1874,    0,\n",
       "           0, 4935,   86,    0,    0, 1000,    0,    0,    0,  386,    0, 4956,\n",
       "        3731,    0,    0, 2558])"
      ]
     },
     "execution_count": 184,
     "metadata": {},
     "output_type": "execute_result"
    }
   ],
   "source": [
    "by"
   ]
  },
  {
   "cell_type": "code",
   "execution_count": 222,
   "metadata": {},
   "outputs": [
    {
     "data": {
      "text/plain": [
       "[('w_ff3efba', [17746]),\n",
       " ('w_ff5fc91', [7031, 21237]),\n",
       " ('w_ff6065f', [6865]),\n",
       " ('w_ff65f67', [14668]),\n",
       " ('w_ff7a4ae', [9884]),\n",
       " ('w_ff94900', [8926]),\n",
       " ('w_ffa542b', [7899, 13772, 20368]),\n",
       " ('w_ffa6d42', [15665]),\n",
       " ('w_ffcf5fe', [21003]),\n",
       " ('w_ffe8693', [22207])]"
      ]
     },
     "execution_count": 222,
     "metadata": {},
     "output_type": "execute_result"
    }
   ],
   "source": [
    "list(w2idx.items())[-10:]"
   ]
  },
  {
   "cell_type": "code",
   "execution_count": 287,
   "metadata": {
    "scrolled": true
   },
   "outputs": [
    {
     "name": "stdout",
     "output_type": "stream",
     "text": [
      "number of random matching pairs that will be created 13624\n",
      "13624 13624\n"
     ]
    }
   ],
   "source": [
    "# get matching\n",
    "# filter desired whales and n images > 1\n",
    "# generates idxs of original train dataframe\n",
    "unique_ws = train_known['Id'].unique()\n",
    "w2idx_match = {w:w2idx[w] for w in w2idx if (w in unique_ws) and (len(w2idx[w]) > 1)}\n",
    "\n",
    "len(w2idx_match)\n",
    "\n",
    "n_matching = 0\n",
    "for l in list(w2idx_match.values()): n_matching += len(l) \n",
    "\n",
    "print(\"number of random matching pairs that will be created\", n_matching)\n",
    "\n",
    "matching_A = []\n",
    "matching_B = []\n",
    "for k in w2idx_match:\n",
    "    idxs, dearanged_idxs = np.array(w2idx_match[k]), np.random.permutation(w2idx_match[k])\n",
    "    while np.any(idxs == dearanged_idxs):\n",
    "        # shuffle until a dearangment is created\n",
    "        dearanged_idxs = np.random.permutation(w2idx_match[k])\n",
    "    \n",
    "    matching_A += list(idxs)\n",
    "    matching_B += list(dearanged_idxs)\n",
    "\n",
    "print(len(matching_A), len(matching_B))\n",
    "\n",
    "# check all are different images\n",
    "assert np.all(np.array(matching_A) != np.array(matching_B))"
   ]
  },
  {
   "cell_type": "code",
   "execution_count": 295,
   "metadata": {
    "scrolled": true
   },
   "outputs": [],
   "source": [
    "# fnames2idx\n",
    "fnames2idx = dict(zip(train['Image'], train['index']))"
   ]
  },
  {
   "cell_type": "code",
   "execution_count": 297,
   "metadata": {},
   "outputs": [
    {
     "data": {
      "text/plain": [
       "[('0000e88ab.jpg', 0),\n",
       " ('0001f9222.jpg', 1),\n",
       " ('00029d126.jpg', 2),\n",
       " ('00050a15a.jpg', 3),\n",
       " ('0005c1ef8.jpg', 4)]"
      ]
     },
     "execution_count": 297,
     "metadata": {},
     "output_type": "execute_result"
    }
   ],
   "source": [
    "list(fnames2idx.items())[:5]"
   ]
  },
  {
   "cell_type": "code",
   "execution_count": 299,
   "metadata": {},
   "outputs": [
    {
     "data": {
      "text/plain": [
       "array(['../data/whale/cropped_training/9d456a88d.jpg', '../data/whale/cropped_training/e5aa8cc13.jpg',\n",
       "       '../data/whale/cropped_training/27f8d73bc.jpg', '../data/whale/cropped_training/4b93d466a.jpg', ...,\n",
       "       '../data/whale/cropped_training/12d78ba10.jpg', '../data/whale/cropped_training/d6cd256bf.jpg',\n",
       "       '../data/whale/cropped_training/f7af1b985.jpg', '../data/whale/cropped_training/e24dc24b8.jpg'], dtype='<U45')"
      ]
     },
     "execution_count": 299,
     "metadata": {},
     "output_type": "execute_result"
    }
   ],
   "source": [
    "data.train_ds.x.items"
   ]
  },
  {
   "cell_type": "code",
   "execution_count": 695,
   "metadata": {},
   "outputs": [],
   "source": [
    "# can include new whales as well for non-matching hard sample candidates\n",
    "data = get_data(train, valid_fnames=valid_fnames, size=(224,448))"
   ]
  },
  {
   "cell_type": "code",
   "execution_count": 704,
   "metadata": {},
   "outputs": [],
   "source": [
    "# monkey patch training dataloader to allow batch_sampler - sequential sampler\n",
    "# to match batch sequences to data.train_ds.x.items\n",
    "# use this data as generator for embeddings\n",
    "data.train_dl = DeviceDataLoader(DataLoader(data.train_dl.dl.dataset,\n",
    "                                            batch_size=256,\n",
    "                                            sampler=torch.utils.data.sampler.SequentialSampler(data.train_ds)\n",
    "                                           ),\n",
    "                                            data.train_dl.device, data.train_dl.tfms,\n",
    "                                            data.train_dl.collate_fn)"
   ]
  },
  {
   "cell_type": "code",
   "execution_count": 705,
   "metadata": {},
   "outputs": [],
   "source": [
    "learner = Learner(data, cnn_body)"
   ]
  },
  {
   "cell_type": "code",
   "execution_count": 706,
   "metadata": {
    "scrolled": true
   },
   "outputs": [
    {
     "data": {
      "text/plain": [
       "array(['../data/whale/cropped_training/0000e88ab.jpg', '../data/whale/cropped_training/0001f9222.jpg'], dtype='<U45')"
      ]
     },
     "execution_count": 706,
     "metadata": {},
     "output_type": "execute_result"
    }
   ],
   "source": [
    "learner.data.train_ds.x.items[:2]"
   ]
  },
  {
   "cell_type": "code",
   "execution_count": 707,
   "metadata": {},
   "outputs": [
    {
     "data": {
      "text/plain": [
       "256"
      ]
     },
     "execution_count": 707,
     "metadata": {},
     "output_type": "execute_result"
    }
   ],
   "source": [
    "learner.data.batch_size"
   ]
  },
  {
   "cell_type": "code",
   "execution_count": 708,
   "metadata": {},
   "outputs": [],
   "source": [
    "# compute embeddings for non-matching pair assignment ~ 10 mins\n",
    "embeddings, _ = learner.get_preds(ds_type=DatasetType.Train)"
   ]
  },
  {
   "cell_type": "code",
   "execution_count": 709,
   "metadata": {},
   "outputs": [
    {
     "data": {
      "text/plain": [
       "torch.Size([21338, 4096])"
      ]
     },
     "execution_count": 709,
     "metadata": {},
     "output_type": "execute_result"
    }
   ],
   "source": [
    "embeddings.shape"
   ]
  },
  {
   "cell_type": "code",
   "execution_count": 710,
   "metadata": {},
   "outputs": [],
   "source": [
    "# train dataframe idxs and classes\n",
    "df_idxs = [fnames2idx[Path(o).name] for o in learner.data.train_ds.x.items]\n",
    "classes = learner.data.train_ds.y.items"
   ]
  },
  {
   "cell_type": "code",
   "execution_count": 712,
   "metadata": {},
   "outputs": [
    {
     "data": {
      "text/plain": [
       "(21338, 21338)"
      ]
     },
     "execution_count": 712,
     "metadata": {},
     "output_type": "execute_result"
    }
   ],
   "source": [
    "len(df_idxs), len(classes)"
   ]
  },
  {
   "cell_type": "code",
   "execution_count": 713,
   "metadata": {},
   "outputs": [],
   "source": [
    "# create pairwise cost matrix - by using a cost func\n",
    "# input to cost func will be 2 embeddings\n",
    "# we want cost function to return the \"hardness\" of pairs\n",
    "# the greater the value the easier the samples to distinguish as different classes\n",
    "# since linear assignment will minimize the cost matrix\n",
    "# we will set same whale pairs to very large to not pick same whales as non-matching pairs\n",
    "# this cost func will run for n**2 - O(N**2)\n",
    "def cost_func(x1, x2):\n",
    "    loss = ContrastiveLoss(cosine_dist, margin=0.3) # using loss here for simplicity, can be cnn_head as well\n",
    "#     loss = ContrastiveLoss(cosine_dist, margin=0.3, add reduce = None, sum, mean) # using loss here for simplicity, can be cnn_head as well\n",
    "    return loss((x1, x2), target=torch.zeros_like(x1[:, 0]))"
   ]
  },
  {
   "cell_type": "code",
   "execution_count": 714,
   "metadata": {},
   "outputs": [
    {
     "data": {
      "text/plain": [
       "tensor([[1.2642e-06, 2.5351e-04, 7.3063e-06,  ..., 1.2676e-06, 1.2597e-06,\n",
       "         1.6886e-06],\n",
       "        [6.8676e-06, 2.1565e-05, 9.7321e-06,  ..., 6.7836e-06, 7.6261e-06,\n",
       "         6.7828e-06],\n",
       "        [1.8433e-06, 2.6421e-05, 2.4375e-06,  ..., 1.0813e-06, 1.2029e-06,\n",
       "         1.0097e-06],\n",
       "        ...,\n",
       "        [3.8078e-06, 7.3633e-05, 8.1368e-06,  ..., 2.8175e-06, 2.6788e-06,\n",
       "         2.8281e-06],\n",
       "        [6.3462e-07, 1.0118e-06, 5.8404e-07,  ..., 1.2611e-07, 1.1345e-07,\n",
       "         1.3947e-07],\n",
       "        [2.0458e-06, 3.0479e-05, 4.3377e-06,  ..., 1.5221e-06, 1.3873e-06,\n",
       "         1.4345e-06]])"
      ]
     },
     "execution_count": 714,
     "metadata": {},
     "output_type": "execute_result"
    }
   ],
   "source": [
    "embeddings"
   ]
  },
  {
   "cell_type": "code",
   "execution_count": null,
   "metadata": {},
   "outputs": [],
   "source": [
    "def create_cost_matrix(embeddings):\n",
    "    \"\"\"\n",
    "    custom cost matrix generation from embeddings\n",
    "    indexes should be sequential\n",
    "    \n",
    "    - use batching and multithraeding for speed\n",
    "    \"\"\"\n",
    "    \n",
    "    # do something and create cost matrix\n",
    "    # e.g. cnn_head() -> \n",
    "    # e.g. cosine_dist() - > \n",
    "    # e.g. eucledian_dist() - > \n",
    "    \n",
    "    return cost_matrix"
   ]
  },
  {
   "cell_type": "code",
   "execution_count": 715,
   "metadata": {},
   "outputs": [],
   "source": [
    "matrix_idxs2df_idxs = dict(enumerate((df_idxs)))\n",
    "df_idxs2matrix_idxs = {matrix_idxs2df_idxs[mat_idx]:mat_idx for mat_idx in matrix_idxs2df_idxs}"
   ]
  },
  {
   "cell_type": "code",
   "execution_count": 716,
   "metadata": {},
   "outputs": [
    {
     "data": {
      "text/plain": [
       "[(0, 0), (1, 1), (2, 2), (4, 3), (5, 4)]"
      ]
     },
     "execution_count": 716,
     "metadata": {},
     "output_type": "execute_result"
    }
   ],
   "source": [
    "list(df_idxs2matrix_idxs.items())[:5]"
   ]
  },
  {
   "cell_type": "code",
   "execution_count": 717,
   "metadata": {},
   "outputs": [],
   "source": [
    "class PairEmbeddingDataset(Dataset):\n",
    "    def __init__(self, embeddings, pair_idxs):\n",
    "        self.embeddings = embeddings\n",
    "        self.pair_idxs = list(pair_idxs)\n",
    "    \n",
    "    def __getitem__(self, index):\n",
    "        idx1, idx2 = self.pair_idxs[index]\n",
    "        return self.embeddings[idx1], self.embeddings[idx2]\n",
    "        \n",
    "    def __len__(self):\n",
    "        return len(self.pair_idxs)"
   ]
  },
  {
   "cell_type": "code",
   "execution_count": 737,
   "metadata": {},
   "outputs": [],
   "source": [
    "# all pairs generator\n",
    "from itertools import combinations\n",
    "from tqdm import tqdm_notebook\n",
    "\n",
    "def create_cost_matrix(embeddings, learner):\n",
    "    \"\"\"\n",
    "    custom cost matrix generation from training embeddings\n",
    "    indexes should be sequential\n",
    "    \n",
    "    - use batching and multithraeding for speed\n",
    "    \"\"\"\n",
    "    # define cost function to calculate f(x1, x2)\n",
    "    cost_func = F.cosine_similarity\n",
    "    \n",
    "    # create an empty cost matrix\n",
    "    n = len(embeddings)\n",
    "    cost_matrix = np.zeros((n, n))    \n",
    "    pair_idxs = list(combinations(range(n), 2))\n",
    "    \n",
    "    # create pair dataset and dataloader for fast cost calculation\n",
    "    pair_ds = PairEmbeddingDataset(embeddings, pair_idxs)\n",
    "    pair_dl = DataLoader(pair_ds, batch_size=int(2**13), shuffle=False, num_workers=8)\n",
    "    \n",
    "    # get costs for each pair and update cost matrix\n",
    "    cost = []\n",
    "    for x1, x2 in tqdm_notebook(pair_dl):\n",
    "        x1, x2 = x1.cuda(), x2.cuda()\n",
    "        cost += [cost_func(x1, x2)]\n",
    "    cost = torch.cat(cost)\n",
    "    cost = cost.cpu().numpy()\n",
    "    i,j = list(zip(*pair_idxs))\n",
    "    cost_matrix[i, j] = cost\n",
    "    \n",
    "    # set large values to same class pairs\n",
    "    classes = learner.data.train_ds.y.items\n",
    "    same_class_pairs = np.array(pair_idxs)[np.where(classes[np.array(i)] == classes[np.array(j)])[0]]\n",
    "    i, j = list(zip(*same_class_pairs))\n",
    "    cost_matrix[i, j] = 1e10\n",
    "    cost_matrix += cost_matrix.T\n",
    "    cost_matrix[np.diag_indices_from(cost_matrix)] = 1e10\n",
    "    return cost_matrix"
   ]
  },
  {
   "cell_type": "code",
   "execution_count": 738,
   "metadata": {},
   "outputs": [
    {
     "ename": "MemoryError",
     "evalue": "",
     "output_type": "error",
     "traceback": [
      "\u001b[0;31m---------------------------------------------------------------------------\u001b[0m",
      "\u001b[0;31mMemoryError\u001b[0m                               Traceback (most recent call last)",
      "\u001b[0;32m<timed exec>\u001b[0m in \u001b[0;36m<module>\u001b[0;34m()\u001b[0m\n",
      "\u001b[0;32m<ipython-input-737-6edd47fcc30b>\u001b[0m in \u001b[0;36mcreate_cost_matrix\u001b[0;34m(embeddings, learner)\u001b[0m\n\u001b[1;32m     19\u001b[0m \u001b[0;34m\u001b[0m\u001b[0m\n\u001b[1;32m     20\u001b[0m     \u001b[0;31m# create pair dataset and dataloader for fast cost calculation\u001b[0m\u001b[0;34m\u001b[0m\u001b[0;34m\u001b[0m\u001b[0m\n\u001b[0;32m---> 21\u001b[0;31m     \u001b[0mpair_ds\u001b[0m \u001b[0;34m=\u001b[0m \u001b[0mPairEmbeddingDataset\u001b[0m\u001b[0;34m(\u001b[0m\u001b[0membeddings\u001b[0m\u001b[0;34m,\u001b[0m \u001b[0mpair_idxs\u001b[0m\u001b[0;34m)\u001b[0m\u001b[0;34m\u001b[0m\u001b[0m\n\u001b[0m\u001b[1;32m     22\u001b[0m     \u001b[0mpair_dl\u001b[0m \u001b[0;34m=\u001b[0m \u001b[0mDataLoader\u001b[0m\u001b[0;34m(\u001b[0m\u001b[0mpair_ds\u001b[0m\u001b[0;34m,\u001b[0m \u001b[0mbatch_size\u001b[0m\u001b[0;34m=\u001b[0m\u001b[0mint\u001b[0m\u001b[0;34m(\u001b[0m\u001b[0;36m2\u001b[0m\u001b[0;34m**\u001b[0m\u001b[0;36m13\u001b[0m\u001b[0;34m)\u001b[0m\u001b[0;34m,\u001b[0m \u001b[0mshuffle\u001b[0m\u001b[0;34m=\u001b[0m\u001b[0;32mFalse\u001b[0m\u001b[0;34m,\u001b[0m \u001b[0mnum_workers\u001b[0m\u001b[0;34m=\u001b[0m\u001b[0;36m8\u001b[0m\u001b[0;34m)\u001b[0m\u001b[0;34m\u001b[0m\u001b[0m\n\u001b[1;32m     23\u001b[0m \u001b[0;34m\u001b[0m\u001b[0m\n",
      "\u001b[0;32m<ipython-input-717-a590aae54fcc>\u001b[0m in \u001b[0;36m__init__\u001b[0;34m(self, embeddings, pair_idxs)\u001b[0m\n\u001b[1;32m      2\u001b[0m     \u001b[0;32mdef\u001b[0m \u001b[0m__init__\u001b[0m\u001b[0;34m(\u001b[0m\u001b[0mself\u001b[0m\u001b[0;34m,\u001b[0m \u001b[0membeddings\u001b[0m\u001b[0;34m,\u001b[0m \u001b[0mpair_idxs\u001b[0m\u001b[0;34m)\u001b[0m\u001b[0;34m:\u001b[0m\u001b[0;34m\u001b[0m\u001b[0m\n\u001b[1;32m      3\u001b[0m         \u001b[0mself\u001b[0m\u001b[0;34m.\u001b[0m\u001b[0membeddings\u001b[0m \u001b[0;34m=\u001b[0m \u001b[0membeddings\u001b[0m\u001b[0;34m\u001b[0m\u001b[0m\n\u001b[0;32m----> 4\u001b[0;31m         \u001b[0mself\u001b[0m\u001b[0;34m.\u001b[0m\u001b[0mpair_idxs\u001b[0m \u001b[0;34m=\u001b[0m \u001b[0mlist\u001b[0m\u001b[0;34m(\u001b[0m\u001b[0mpair_idxs\u001b[0m\u001b[0;34m)\u001b[0m\u001b[0;34m\u001b[0m\u001b[0m\n\u001b[0m\u001b[1;32m      5\u001b[0m \u001b[0;34m\u001b[0m\u001b[0m\n\u001b[1;32m      6\u001b[0m     \u001b[0;32mdef\u001b[0m \u001b[0m__getitem__\u001b[0m\u001b[0;34m(\u001b[0m\u001b[0mself\u001b[0m\u001b[0;34m,\u001b[0m \u001b[0mindex\u001b[0m\u001b[0;34m)\u001b[0m\u001b[0;34m:\u001b[0m\u001b[0;34m\u001b[0m\u001b[0m\n",
      "\u001b[0;31mMemoryError\u001b[0m: "
     ]
    }
   ],
   "source": [
    "%%time\n",
    "cost_matrix = create_cost_matrix(embeddings, learner)"
   ]
  },
  {
   "cell_type": "code",
   "execution_count": 688,
   "metadata": {},
   "outputs": [
    {
     "data": {
      "text/plain": [
       "array([[1.000000e+10, 8.692394e-03, 5.436172e-02, 5.902066e-03, ..., 1.280329e-02, 8.666025e-01, 2.990504e-01,\n",
       "        6.696501e-03],\n",
       "       [8.692394e-03, 1.000000e+10, 2.813417e-02, 5.601639e-03, ..., 3.239571e-01, 1.598770e-01, 6.318404e-01,\n",
       "        9.665704e-01],\n",
       "       [5.436172e-02, 2.813417e-02, 1.000000e+10, 7.194378e-02, ..., 1.572504e-01, 1.568190e-01, 9.904390e-02,\n",
       "        5.575148e-02],\n",
       "       [5.902066e-03, 5.601639e-03, 7.194378e-02, 1.000000e+10, ..., 3.457025e-02, 6.845301e-03, 8.962051e-03,\n",
       "        2.772144e-02],\n",
       "       ...,\n",
       "       [1.280329e-02, 3.239571e-01, 1.572504e-01, 3.457025e-02, ..., 1.000000e+10, 4.675109e-01, 2.352360e-01,\n",
       "        3.504084e-01],\n",
       "       [8.666025e-01, 1.598770e-01, 1.568190e-01, 6.845301e-03, ..., 4.675109e-01, 1.000000e+10, 4.082921e-01,\n",
       "        1.723878e-01],\n",
       "       [2.990504e-01, 6.318404e-01, 9.904390e-02, 8.962051e-03, ..., 2.352360e-01, 4.082921e-01, 1.000000e+10,\n",
       "        7.398231e-01],\n",
       "       [6.696501e-03, 9.665704e-01, 5.575148e-02, 2.772144e-02, ..., 3.504084e-01, 1.723878e-01, 7.398231e-01,\n",
       "        1.000000e+10]])"
      ]
     },
     "execution_count": 688,
     "metadata": {},
     "output_type": "execute_result"
    }
   ],
   "source": [
    "cost_matrix"
   ]
  },
  {
   "cell_type": "code",
   "execution_count": 689,
   "metadata": {},
   "outputs": [],
   "source": [
    "from lapjv import lapjv\n",
    "\n",
    "def non_match_assignments(cost_matrix, solver=lapjv):\n",
    "    \"\"\"returns matrix idxs of linear sum assignment\"\"\"\n",
    "    row_assignment, _, _ = lapjv(cost_matrix)\n",
    "    row_ind, col_ind = np.array(range(len(row_assignment))), row_assignment\n",
    "    return row_ind, col_ind"
   ]
  },
  {
   "cell_type": "code",
   "execution_count": 692,
   "metadata": {},
   "outputs": [
    {
     "name": "stdout",
     "output_type": "stream",
     "text": [
      "CPU times: user 1.05 s, sys: 0 ns, total: 1.05 s\n",
      "Wall time: 1.05 s\n"
     ]
    }
   ],
   "source": [
    "%%time\n",
    "row_ind, col_ind  = non_match_assignments(cost_matrix)"
   ]
  },
  {
   "cell_type": "code",
   "execution_count": 693,
   "metadata": {},
   "outputs": [
    {
     "data": {
      "text/plain": [
       "9.508276450636913"
      ]
     },
     "execution_count": 693,
     "metadata": {},
     "output_type": "execute_result"
    }
   ],
   "source": [
    "sum(cost_matrix[row_ind, col_ind])"
   ]
  },
  {
   "cell_type": "code",
   "execution_count": 510,
   "metadata": {},
   "outputs": [],
   "source": [
    "# get idxs in train dataframe\n",
    "non_matching_A = [matrix_idxs2df_idxs[idx] for idx in row_ind]\n",
    "non_matching_B = [matrix_idxs2df_idxs[idx] for idx in col_ind]"
   ]
  },
  {
   "cell_type": "code",
   "execution_count": 524,
   "metadata": {
    "scrolled": true
   },
   "outputs": [],
   "source": [
    "# finally create pairs training dataframe\n",
    "pairs_df = pd.concat([pd.DataFrame({\"Image_A\": train.iloc[matching_A]['Image'].values,\n",
    " \"Image_B\": train.iloc[matching_B]['Image'].values,\n",
    "\"Is_Matching\": 1}),\n",
    "pd.DataFrame({\"Image_A\": train.iloc[non_matching_A]['Image'].values,\n",
    " \"Image_B\": train.iloc[non_matching_B]['Image'].values,\n",
    "\"Is_Matching\": 0})])"
   ]
  },
  {
   "cell_type": "code",
   "execution_count": 526,
   "metadata": {},
   "outputs": [
    {
     "data": {
      "text/html": [
       "<div>\n",
       "<style scoped>\n",
       "    .dataframe tbody tr th:only-of-type {\n",
       "        vertical-align: middle;\n",
       "    }\n",
       "\n",
       "    .dataframe tbody tr th {\n",
       "        vertical-align: top;\n",
       "    }\n",
       "\n",
       "    .dataframe thead th {\n",
       "        text-align: right;\n",
       "    }\n",
       "</style>\n",
       "<table border=\"1\" class=\"dataframe\">\n",
       "  <thead>\n",
       "    <tr style=\"text-align: right;\">\n",
       "      <th></th>\n",
       "      <th>Image_A</th>\n",
       "      <th>Image_B</th>\n",
       "      <th>Is_Matching</th>\n",
       "    </tr>\n",
       "  </thead>\n",
       "  <tbody>\n",
       "    <tr>\n",
       "      <th>0</th>\n",
       "      <td>2f31725c6.jpg</td>\n",
       "      <td>cc6c1a235.jpg</td>\n",
       "      <td>1</td>\n",
       "    </tr>\n",
       "    <tr>\n",
       "      <th>1</th>\n",
       "      <td>30eac8c9f.jpg</td>\n",
       "      <td>47bd1d3bb.jpg</td>\n",
       "      <td>1</td>\n",
       "    </tr>\n",
       "    <tr>\n",
       "      <th>2</th>\n",
       "      <td>3c4235ad2.jpg</td>\n",
       "      <td>30eac8c9f.jpg</td>\n",
       "      <td>1</td>\n",
       "    </tr>\n",
       "    <tr>\n",
       "      <th>3</th>\n",
       "      <td>47bd1d3bb.jpg</td>\n",
       "      <td>ee87a2369.jpg</td>\n",
       "      <td>1</td>\n",
       "    </tr>\n",
       "    <tr>\n",
       "      <th>4</th>\n",
       "      <td>5934e01ea.jpg</td>\n",
       "      <td>3c4235ad2.jpg</td>\n",
       "      <td>1</td>\n",
       "    </tr>\n",
       "  </tbody>\n",
       "</table>\n",
       "</div>"
      ],
      "text/plain": [
       "         Image_A        Image_B  Is_Matching\n",
       "0  2f31725c6.jpg  cc6c1a235.jpg            1\n",
       "1  30eac8c9f.jpg  47bd1d3bb.jpg            1\n",
       "2  3c4235ad2.jpg  30eac8c9f.jpg            1\n",
       "3  47bd1d3bb.jpg  ee87a2369.jpg            1\n",
       "4  5934e01ea.jpg  3c4235ad2.jpg            1"
      ]
     },
     "execution_count": 526,
     "metadata": {},
     "output_type": "execute_result"
    }
   ],
   "source": [
    "pairs_df.head()"
   ]
  },
  {
   "cell_type": "code",
   "execution_count": null,
   "metadata": {},
   "outputs": [],
   "source": []
  },
  {
   "cell_type": "code",
   "execution_count": null,
   "metadata": {},
   "outputs": [],
   "source": []
  },
  {
   "cell_type": "code",
   "execution_count": null,
   "metadata": {},
   "outputs": [],
   "source": []
  },
  {
   "cell_type": "code",
   "execution_count": null,
   "metadata": {},
   "outputs": [],
   "source": []
  },
  {
   "cell_type": "code",
   "execution_count": null,
   "metadata": {},
   "outputs": [],
   "source": []
  },
  {
   "cell_type": "code",
   "execution_count": null,
   "metadata": {},
   "outputs": [],
   "source": []
  },
  {
   "cell_type": "code",
   "execution_count": null,
   "metadata": {},
   "outputs": [],
   "source": []
  },
  {
   "cell_type": "code",
   "execution_count": null,
   "metadata": {},
   "outputs": [],
   "source": []
  }
 ],
 "metadata": {
  "kernelspec": {
   "display_name": "Python 3",
   "language": "python",
   "name": "python3"
  },
  "language_info": {
   "codemirror_mode": {
    "name": "ipython",
    "version": 3
   },
   "file_extension": ".py",
   "mimetype": "text/x-python",
   "name": "python",
   "nbconvert_exporter": "python",
   "pygments_lexer": "ipython3",
   "version": "3.7.0"
  }
 },
 "nbformat": 4,
 "nbformat_minor": 2
}
