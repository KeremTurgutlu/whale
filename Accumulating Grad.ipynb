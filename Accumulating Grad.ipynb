{
 "cells": [
  {
   "cell_type": "code",
   "execution_count": 46,
   "metadata": {},
   "outputs": [],
   "source": [
    "from dev.data_utils import seed_everything\n",
    "from fastai.vision import *\n",
    "import torch"
   ]
  },
  {
   "cell_type": "code",
   "execution_count": 47,
   "metadata": {},
   "outputs": [],
   "source": [
    "seed_everything(42)\n",
    "w1 = torch.rand((3,1), requires_grad=True)\n",
    "seed_everything(42)\n",
    "w2 = torch.rand((3,1), requires_grad=True)\n",
    "assert torch.equal(w1, w2)"
   ]
  },
  {
   "cell_type": "code",
   "execution_count": 48,
   "metadata": {},
   "outputs": [],
   "source": [
    "xs = torch.rand(size=(4,3)).float()\n",
    "ys = torch.randint(high=2, size=(4,))"
   ]
  },
  {
   "cell_type": "code",
   "execution_count": 49,
   "metadata": {},
   "outputs": [
    {
     "data": {
      "text/plain": [
       "(tensor([[0.9593, 0.3904, 0.6009],\n",
       "         [0.2566, 0.7936, 0.9408],\n",
       "         [0.1332, 0.9346, 0.5936],\n",
       "         [0.8694, 0.5677, 0.7411]]), tensor([0, 1, 1, 1]))"
      ]
     },
     "execution_count": 49,
     "metadata": {},
     "output_type": "execute_result"
    }
   ],
   "source": [
    "xs, ys"
   ]
  },
  {
   "cell_type": "markdown",
   "metadata": {},
   "source": [
    "#### No accumulate `reduction=sum` "
   ]
  },
  {
   "cell_type": "code",
   "execution_count": 67,
   "metadata": {},
   "outputs": [],
   "source": [
    "seed_everything(42)\n",
    "w1 = torch.rand((3,3), requires_grad=True)\n",
    "w2 = torch.rand((3,1), requires_grad=True)\n",
    "def model(x): return torch.sigmoid((F.relu(x@w1))@w2 + 0.5)\n",
    "crit = BCEFlat()\n",
    "opt = torch.optim.SGD([w1, w2], lr=0.1)"
   ]
  },
  {
   "cell_type": "code",
   "execution_count": 68,
   "metadata": {},
   "outputs": [],
   "source": [
    "crit = BCEFlat(reduction='sum')\n",
    "opt = torch.optim.SGD([w1, w2], lr=0.1)"
   ]
  },
  {
   "cell_type": "code",
   "execution_count": 69,
   "metadata": {},
   "outputs": [],
   "source": [
    "# Full batch\n",
    "pred = model(xs)\n",
    "loss = crit(pred, ys)\n",
    "# one graph is created here\n",
    "opt.zero_grad()\n",
    "loss.backward()\n",
    "# graph is cleared here\n",
    "opt.step()"
   ]
  },
  {
   "cell_type": "code",
   "execution_count": 70,
   "metadata": {
    "scrolled": true
   },
   "outputs": [
    {
     "data": {
      "text/plain": [
       "tensor([[0.8712, 0.8370, 0.3333],\n",
       "        [0.9566, 0.3714, 0.5888],\n",
       "        [0.2510, 0.7546, 0.9160]], requires_grad=True)"
      ]
     },
     "execution_count": 70,
     "metadata": {},
     "output_type": "execute_result"
    }
   ],
   "source": [
    "w1"
   ]
  },
  {
   "cell_type": "code",
   "execution_count": 71,
   "metadata": {},
   "outputs": [
    {
     "data": {
      "text/plain": [
       "tensor([[0.1111, 0.7799, 0.4953],\n",
       "        [0.0271, 0.1901, 0.1208],\n",
       "        [0.0556, 0.3900, 0.2477]])"
      ]
     },
     "execution_count": 71,
     "metadata": {},
     "output_type": "execute_result"
    }
   ],
   "source": [
    "w1.grad"
   ]
  },
  {
   "cell_type": "code",
   "execution_count": 72,
   "metadata": {},
   "outputs": [],
   "source": [
    "opt.zero_grad()"
   ]
  },
  {
   "cell_type": "markdown",
   "metadata": {},
   "source": [
    "#### Accumulate `reduction=sum`"
   ]
  },
  {
   "cell_type": "code",
   "execution_count": 73,
   "metadata": {},
   "outputs": [],
   "source": [
    "seed_everything(42)\n",
    "w1 = torch.rand((3,3), requires_grad=True)\n",
    "w2 = torch.rand((3,1), requires_grad=True)\n",
    "def model(x): return torch.sigmoid((F.relu(x@w1))@w2 + 0.5)\n",
    "crit = BCEFlat(reduction='sum')\n",
    "opt = torch.optim.SGD([w1, w2], lr=0.1)"
   ]
  },
  {
   "cell_type": "code",
   "execution_count": 74,
   "metadata": {},
   "outputs": [],
   "source": [
    "opt.zero_grad()\n",
    "pred = model(xs[:2])\n",
    "loss = crit(pred, ys[:2])\n",
    "# accumulate grads\n",
    "loss.backward()\n",
    "pred = model(xs[2:])\n",
    "loss = crit(pred, ys[2:])\n",
    "# accumulate grads\n",
    "loss.backward()\n",
    "opt.step()"
   ]
  },
  {
   "cell_type": "code",
   "execution_count": 75,
   "metadata": {},
   "outputs": [
    {
     "data": {
      "text/plain": [
       "tensor([[0.8712, 0.8370, 0.3333],\n",
       "        [0.9566, 0.3714, 0.5888],\n",
       "        [0.2510, 0.7546, 0.9160]], requires_grad=True)"
      ]
     },
     "execution_count": 75,
     "metadata": {},
     "output_type": "execute_result"
    }
   ],
   "source": [
    "w1"
   ]
  },
  {
   "cell_type": "code",
   "execution_count": 76,
   "metadata": {},
   "outputs": [
    {
     "data": {
      "text/plain": [
       "tensor([[0.1111, 0.7799, 0.4953],\n",
       "        [0.0271, 0.1901, 0.1208],\n",
       "        [0.0556, 0.3900, 0.2477]])"
      ]
     },
     "execution_count": 76,
     "metadata": {},
     "output_type": "execute_result"
    }
   ],
   "source": [
    "w1.grad"
   ]
  },
  {
   "cell_type": "code",
   "execution_count": 77,
   "metadata": {},
   "outputs": [],
   "source": [
    "opt.zero_grad()"
   ]
  },
  {
   "cell_type": "markdown",
   "metadata": {},
   "source": [
    "#### No Accumulate with `reduction=mean`"
   ]
  },
  {
   "cell_type": "code",
   "execution_count": 78,
   "metadata": {},
   "outputs": [],
   "source": [
    "seed_everything(42)\n",
    "w1 = torch.rand((3,3), requires_grad=True)\n",
    "w2 = torch.rand((3,1), requires_grad=True)\n",
    "def model(x): return torch.sigmoid((F.relu(x@w1))@w2 + 0.5)\n",
    "crit = BCEFlat(reduction='mean')\n",
    "opt = torch.optim.SGD([w1, w2], lr=0.1)"
   ]
  },
  {
   "cell_type": "code",
   "execution_count": 79,
   "metadata": {},
   "outputs": [],
   "source": [
    "# Full batch\n",
    "pred = model(xs)\n",
    "loss = crit(pred, ys)\n",
    "# one graph is created here\n",
    "opt.zero_grad()\n",
    "loss.backward()\n",
    "# graph is cleared here\n",
    "opt.step()"
   ]
  },
  {
   "cell_type": "code",
   "execution_count": 80,
   "metadata": {},
   "outputs": [
    {
     "data": {
      "text/plain": [
       "tensor([[0.8795, 0.8955, 0.3705],\n",
       "        [0.9586, 0.3857, 0.5979],\n",
       "        [0.2552, 0.7839, 0.9346]], requires_grad=True)"
      ]
     },
     "execution_count": 80,
     "metadata": {},
     "output_type": "execute_result"
    }
   ],
   "source": [
    "w1"
   ]
  },
  {
   "cell_type": "code",
   "execution_count": 81,
   "metadata": {},
   "outputs": [
    {
     "data": {
      "text/plain": [
       "tensor([[0.0278, 0.1950, 0.1238],\n",
       "        [0.0068, 0.0475, 0.0302],\n",
       "        [0.0139, 0.0975, 0.0619]])"
      ]
     },
     "execution_count": 81,
     "metadata": {},
     "output_type": "execute_result"
    }
   ],
   "source": [
    "w1.grad"
   ]
  },
  {
   "cell_type": "code",
   "execution_count": 21,
   "metadata": {},
   "outputs": [],
   "source": [
    "opt.zero_grad()"
   ]
  },
  {
   "cell_type": "markdown",
   "metadata": {},
   "source": [
    "#### Accumulate equal to `reduction=mean` using `reduction=sum`"
   ]
  },
  {
   "cell_type": "code",
   "execution_count": 82,
   "metadata": {},
   "outputs": [],
   "source": [
    "seed_everything(42)\n",
    "w1 = torch.rand((3,3), requires_grad=True)\n",
    "w2 = torch.rand((3,1), requires_grad=True)\n",
    "def model(x): return torch.sigmoid((F.relu(x@w1))@w2 + 0.5)\n",
    "crit = BCEFlat(reduction='sum')\n",
    "opt = torch.optim.SGD([w1, w2], lr=0.1)"
   ]
  },
  {
   "cell_type": "code",
   "execution_count": 83,
   "metadata": {},
   "outputs": [],
   "source": [
    "opt.zero_grad()\n",
    "pred = model(xs[:2])\n",
    "loss = crit(pred, ys[:2])\n",
    "# accumulate grads\n",
    "loss.backward()\n",
    "pred = model(xs[2:])\n",
    "loss = crit(pred, ys[2:])\n",
    "# accumulate grads\n",
    "loss.backward()"
   ]
  },
  {
   "cell_type": "code",
   "execution_count": 84,
   "metadata": {},
   "outputs": [
    {
     "data": {
      "text/plain": [
       "tensor([[0.0278, 0.1950, 0.1238],\n",
       "        [0.0068, 0.0475, 0.0302],\n",
       "        [0.0139, 0.0975, 0.0619]])"
      ]
     },
     "execution_count": 84,
     "metadata": {},
     "output_type": "execute_result"
    }
   ],
   "source": [
    "w1.grad.div_(4)"
   ]
  },
  {
   "cell_type": "code",
   "execution_count": 85,
   "metadata": {},
   "outputs": [],
   "source": [
    "opt.step()"
   ]
  },
  {
   "cell_type": "code",
   "execution_count": 86,
   "metadata": {},
   "outputs": [
    {
     "data": {
      "text/plain": [
       "tensor([[0.8795, 0.8955, 0.3705],\n",
       "        [0.9586, 0.3857, 0.5979],\n",
       "        [0.2552, 0.7839, 0.9346]], requires_grad=True)"
      ]
     },
     "execution_count": 86,
     "metadata": {},
     "output_type": "execute_result"
    }
   ],
   "source": [
    "w1"
   ]
  },
  {
   "cell_type": "code",
   "execution_count": 87,
   "metadata": {},
   "outputs": [
    {
     "data": {
      "text/plain": [
       "tensor([[0.0278, 0.1950, 0.1238],\n",
       "        [0.0068, 0.0475, 0.0302],\n",
       "        [0.0139, 0.0975, 0.0619]])"
      ]
     },
     "execution_count": 87,
     "metadata": {},
     "output_type": "execute_result"
    }
   ],
   "source": [
    "w1.grad"
   ]
  },
  {
   "cell_type": "code",
   "execution_count": 88,
   "metadata": {},
   "outputs": [],
   "source": [
    "opt.zero_grad()"
   ]
  },
  {
   "cell_type": "code",
   "execution_count": null,
   "metadata": {},
   "outputs": [],
   "source": []
  },
  {
   "cell_type": "code",
   "execution_count": null,
   "metadata": {},
   "outputs": [],
   "source": []
  },
  {
   "cell_type": "code",
   "execution_count": null,
   "metadata": {},
   "outputs": [],
   "source": []
  }
 ],
 "metadata": {
  "kernelspec": {
   "display_name": "Python 3",
   "language": "python",
   "name": "python3"
  },
  "language_info": {
   "codemirror_mode": {
    "name": "ipython",
    "version": 3
   },
   "file_extension": ".py",
   "mimetype": "text/x-python",
   "name": "python",
   "nbconvert_exporter": "python",
   "pygments_lexer": "ipython3",
   "version": "3.7.0"
  }
 },
 "nbformat": 4,
 "nbformat_minor": 2
}
