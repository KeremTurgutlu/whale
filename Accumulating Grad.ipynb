{
 "cells": [
  {
   "cell_type": "code",
   "execution_count": 146,
   "metadata": {},
   "outputs": [],
   "source": [
    "from dev.data_utils import seed_everything\n",
    "from fastai.vision import *\n",
    "import torch"
   ]
  },
  {
   "cell_type": "code",
   "execution_count": 147,
   "metadata": {},
   "outputs": [],
   "source": [
    "seed_everything(42)\n",
    "w1 = torch.rand((3,1), requires_grad=True)\n",
    "seed_everything(42)\n",
    "w2 = torch.rand((3,1), requires_grad=True)\n",
    "assert torch.equal(w1, w2)"
   ]
  },
  {
   "cell_type": "code",
   "execution_count": 148,
   "metadata": {},
   "outputs": [],
   "source": [
    "xs = torch.rand(size=(4,3)).float()\n",
    "ys = torch.randint(high=2, size=(4,))"
   ]
  },
  {
   "cell_type": "code",
   "execution_count": 149,
   "metadata": {},
   "outputs": [
    {
     "data": {
      "text/plain": [
       "(tensor([[0.9593, 0.3904, 0.6009],\n",
       "         [0.2566, 0.7936, 0.9408],\n",
       "         [0.1332, 0.9346, 0.5936],\n",
       "         [0.8694, 0.5677, 0.7411]]), tensor([0, 1, 1, 1]))"
      ]
     },
     "execution_count": 149,
     "metadata": {},
     "output_type": "execute_result"
    }
   ],
   "source": [
    "xs, ys"
   ]
  },
  {
   "cell_type": "markdown",
   "metadata": {},
   "source": [
    "#### No accumulate `reduction=sum` "
   ]
  },
  {
   "cell_type": "code",
   "execution_count": 189,
   "metadata": {},
   "outputs": [],
   "source": [
    "seed_everything(42)\n",
    "w1 = torch.rand((3,1), requires_grad=True)\n",
    "def model(x): return torch.sigmoid(x@w1 + 0.5)\n",
    "crit = BCEFlat()\n",
    "opt = torch.optim.SGD([w1], lr=0.1)"
   ]
  },
  {
   "cell_type": "code",
   "execution_count": 190,
   "metadata": {},
   "outputs": [],
   "source": [
    "crit = BCEFlat(reduction='sum')\n",
    "opt = torch.optim.SGD([w1], lr=0.1)"
   ]
  },
  {
   "cell_type": "code",
   "execution_count": 191,
   "metadata": {},
   "outputs": [],
   "source": [
    "# Full batch\n",
    "pred = model(xs)\n",
    "loss = crit(pred, ys)\n",
    "# one graph is created here\n",
    "opt.zero_grad()\n",
    "loss.backward()\n",
    "# graph is cleared here\n",
    "opt.step()"
   ]
  },
  {
   "cell_type": "code",
   "execution_count": 192,
   "metadata": {
    "scrolled": true
   },
   "outputs": [
    {
     "data": {
      "text/plain": [
       "tensor([[0.8139],\n",
       "        [0.9128],\n",
       "        [0.3610]], requires_grad=True)"
      ]
     },
     "execution_count": 192,
     "metadata": {},
     "output_type": "execute_result"
    }
   ],
   "source": [
    "w1"
   ]
  },
  {
   "cell_type": "code",
   "execution_count": 193,
   "metadata": {},
   "outputs": [
    {
     "data": {
      "text/plain": [
       "tensor([[0.6841],\n",
       "        [0.0218],\n",
       "        [0.2183]])"
      ]
     },
     "execution_count": 193,
     "metadata": {},
     "output_type": "execute_result"
    }
   ],
   "source": [
    "w1.grad"
   ]
  },
  {
   "cell_type": "code",
   "execution_count": 194,
   "metadata": {},
   "outputs": [],
   "source": [
    "opt.zero_grad()"
   ]
  },
  {
   "cell_type": "markdown",
   "metadata": {},
   "source": [
    "#### Accumulate `reduction=sum`"
   ]
  },
  {
   "cell_type": "code",
   "execution_count": 195,
   "metadata": {},
   "outputs": [],
   "source": [
    "seed_everything(42)\n",
    "w1 = torch.rand((3,1), requires_grad=True)\n",
    "def model(x): return torch.sigmoid(x@w1 + 0.5)\n",
    "crit = BCEFlat(reduction='sum')\n",
    "opt = torch.optim.SGD([w1], lr=0.1)"
   ]
  },
  {
   "cell_type": "code",
   "execution_count": 196,
   "metadata": {},
   "outputs": [],
   "source": [
    "opt.zero_grad()\n",
    "pred = model(xs[:2])\n",
    "loss = crit(pred, ys[:2])\n",
    "# accumulate grads\n",
    "loss.backward()\n",
    "pred = model(xs[2:])\n",
    "loss = crit(pred, ys[2:])\n",
    "# accumulate grads\n",
    "loss.backward()\n",
    "opt.step()"
   ]
  },
  {
   "cell_type": "code",
   "execution_count": 197,
   "metadata": {},
   "outputs": [
    {
     "data": {
      "text/plain": [
       "tensor([[0.8139],\n",
       "        [0.9128],\n",
       "        [0.3610]], requires_grad=True)"
      ]
     },
     "execution_count": 197,
     "metadata": {},
     "output_type": "execute_result"
    }
   ],
   "source": [
    "w1"
   ]
  },
  {
   "cell_type": "code",
   "execution_count": 198,
   "metadata": {},
   "outputs": [
    {
     "data": {
      "text/plain": [
       "tensor([[0.6841],\n",
       "        [0.0218],\n",
       "        [0.2183]])"
      ]
     },
     "execution_count": 198,
     "metadata": {},
     "output_type": "execute_result"
    }
   ],
   "source": [
    "w1.grad"
   ]
  },
  {
   "cell_type": "code",
   "execution_count": 199,
   "metadata": {},
   "outputs": [],
   "source": [
    "opt.zero_grad()"
   ]
  },
  {
   "cell_type": "markdown",
   "metadata": {},
   "source": [
    "#### No Accumulate with `reduction=mean`"
   ]
  },
  {
   "cell_type": "code",
   "execution_count": 201,
   "metadata": {},
   "outputs": [],
   "source": [
    "seed_everything(42)\n",
    "w1 = torch.rand((3,1), requires_grad=True)\n",
    "def model(x): return torch.sigmoid(x@w1 + 0.5)\n",
    "crit = BCEFlat()\n",
    "opt = torch.optim.SGD([w1], lr=0.1)"
   ]
  },
  {
   "cell_type": "code",
   "execution_count": 203,
   "metadata": {},
   "outputs": [],
   "source": [
    "crit = BCEFlat(reduction='mean')\n",
    "opt = torch.optim.SGD([w1], lr=0.1)"
   ]
  },
  {
   "cell_type": "code",
   "execution_count": 204,
   "metadata": {},
   "outputs": [],
   "source": [
    "# Full batch\n",
    "pred = model(xs)\n",
    "loss = crit(pred, ys)\n",
    "# one graph is created here\n",
    "opt.zero_grad()\n",
    "loss.backward()\n",
    "# graph is cleared here\n",
    "opt.step()"
   ]
  },
  {
   "cell_type": "code",
   "execution_count": 205,
   "metadata": {},
   "outputs": [
    {
     "data": {
      "text/plain": [
       "tensor([[0.8652],\n",
       "        [0.9145],\n",
       "        [0.3774]], requires_grad=True)"
      ]
     },
     "execution_count": 205,
     "metadata": {},
     "output_type": "execute_result"
    }
   ],
   "source": [
    "w1"
   ]
  },
  {
   "cell_type": "code",
   "execution_count": 206,
   "metadata": {},
   "outputs": [
    {
     "data": {
      "text/plain": [
       "tensor([[0.1710],\n",
       "        [0.0054],\n",
       "        [0.0546]])"
      ]
     },
     "execution_count": 206,
     "metadata": {},
     "output_type": "execute_result"
    }
   ],
   "source": [
    "w1.grad"
   ]
  },
  {
   "cell_type": "code",
   "execution_count": 207,
   "metadata": {},
   "outputs": [],
   "source": [
    "opt.zero_grad()"
   ]
  },
  {
   "cell_type": "markdown",
   "metadata": {},
   "source": [
    "#### Accumulate equal to `reduction=mean` using `reduction=sum`"
   ]
  },
  {
   "cell_type": "code",
   "execution_count": 208,
   "metadata": {},
   "outputs": [],
   "source": [
    "seed_everything(42)\n",
    "w1 = torch.rand((3,1), requires_grad=True)\n",
    "def model(x): return torch.sigmoid(x@w1 + 0.5)\n",
    "crit = BCEFlat(reduction='sum')\n",
    "opt = torch.optim.SGD([w1], lr=0.1)"
   ]
  },
  {
   "cell_type": "code",
   "execution_count": 209,
   "metadata": {},
   "outputs": [],
   "source": [
    "opt.zero_grad()\n",
    "pred = model(xs[:2])\n",
    "loss = crit(pred, ys[:2])\n",
    "# accumulate grads\n",
    "loss.backward()\n",
    "pred = model(xs[2:])\n",
    "loss = crit(pred, ys[2:])\n",
    "# accumulate grads\n",
    "loss.backward()"
   ]
  },
  {
   "cell_type": "code",
   "execution_count": 211,
   "metadata": {},
   "outputs": [
    {
     "data": {
      "text/plain": [
       "tensor([[0.1710],\n",
       "        [0.0054],\n",
       "        [0.0546]])"
      ]
     },
     "execution_count": 211,
     "metadata": {},
     "output_type": "execute_result"
    }
   ],
   "source": [
    "w1.grad.div_(4)"
   ]
  },
  {
   "cell_type": "code",
   "execution_count": 213,
   "metadata": {},
   "outputs": [],
   "source": [
    "opt.step()"
   ]
  },
  {
   "cell_type": "code",
   "execution_count": 214,
   "metadata": {},
   "outputs": [
    {
     "data": {
      "text/plain": [
       "tensor([[0.8652],\n",
       "        [0.9145],\n",
       "        [0.3774]], requires_grad=True)"
      ]
     },
     "execution_count": 214,
     "metadata": {},
     "output_type": "execute_result"
    }
   ],
   "source": [
    "w1"
   ]
  },
  {
   "cell_type": "code",
   "execution_count": 215,
   "metadata": {},
   "outputs": [
    {
     "data": {
      "text/plain": [
       "tensor([[0.1710],\n",
       "        [0.0054],\n",
       "        [0.0546]])"
      ]
     },
     "execution_count": 215,
     "metadata": {},
     "output_type": "execute_result"
    }
   ],
   "source": [
    "w1.grad"
   ]
  },
  {
   "cell_type": "code",
   "execution_count": 216,
   "metadata": {},
   "outputs": [],
   "source": [
    "opt.zero_grad()"
   ]
  },
  {
   "cell_type": "code",
   "execution_count": null,
   "metadata": {},
   "outputs": [],
   "source": []
  },
  {
   "cell_type": "code",
   "execution_count": null,
   "metadata": {},
   "outputs": [],
   "source": []
  },
  {
   "cell_type": "code",
   "execution_count": null,
   "metadata": {},
   "outputs": [],
   "source": []
  }
 ],
 "metadata": {
  "kernelspec": {
   "display_name": "Python 3",
   "language": "python",
   "name": "python3"
  },
  "language_info": {
   "codemirror_mode": {
    "name": "ipython",
    "version": 3
   },
   "file_extension": ".py",
   "mimetype": "text/x-python",
   "name": "python",
   "nbconvert_exporter": "python",
   "pygments_lexer": "ipython3",
   "version": "3.7.0"
  }
 },
 "nbformat": 4,
 "nbformat_minor": 2
}
