{
 "cells": [
  {
   "cell_type": "code",
   "execution_count": 1,
   "metadata": {},
   "outputs": [],
   "source": [
    "%load_ext autoreload\n",
    "%autoreload 2"
   ]
  },
  {
   "cell_type": "code",
   "execution_count": 2,
   "metadata": {},
   "outputs": [],
   "source": [
    "%matplotlib inline\n",
    "import matplotlib.pyplot as plt\n",
    "import pandas as pd\n",
    "import numpy as np\n",
    "from pathlib import Path\n",
    "\n",
    "from fastai import *\n",
    "from fastai.vision import *\n",
    "from ipyexperiments import *"
   ]
  },
  {
   "cell_type": "markdown",
   "metadata": {},
   "source": [
    "Maybe use `loss(reduction=\"sum\")` and average `on_epoch_end`"
   ]
  },
  {
   "cell_type": "code",
   "execution_count": 3,
   "metadata": {},
   "outputs": [],
   "source": [
    "class myOptimWrapper(OptimWrapper):\n",
    "    def step(self):          pass\n",
    "    def zero_grad(self):      pass\n",
    "    def real_step(self):      super().step()\n",
    "    def real_zero_grad(self): super().zero_grad()"
   ]
  },
  {
   "cell_type": "code",
   "execution_count": 4,
   "metadata": {},
   "outputs": [],
   "source": [
    "@dataclass\n",
    "class StepEpochEnd(Callback):\n",
    "    learn:Learner\n",
    "    def on_epoch_end(self, **kwargs):\n",
    "        print(\"real step and zero grad\")\n",
    "        self.learn.opt.real_step()\n",
    "        self.learn.opt.real_zero_grad()"
   ]
  },
  {
   "cell_type": "code",
   "execution_count": 5,
   "metadata": {},
   "outputs": [],
   "source": [
    "@dataclass\n",
    "class ShowGrads(Callback):\n",
    "    learn:Learner\n",
    "    def on_loss_begin(self, **kwargs):\n",
    "        print(\"before batch loss:\")\n",
    "        last_layers = self.learn.layer_groups[-1]\n",
    "        last_layer = last_layers[-1]\n",
    "        print(last_layer.weight)\n",
    "    \n",
    "    def on_epoch_end(self, **kwargs):\n",
    "        print(\"on epoch end:\")\n",
    "        last_layers = self.learn.layer_groups[-1]\n",
    "        last_layer = last_layers[-1]\n",
    "        print(last_layer.weight)"
   ]
  },
  {
   "cell_type": "code",
   "execution_count": 6,
   "metadata": {},
   "outputs": [],
   "source": [
    "def my_create_opt(self, lr:Floats, wd:Floats=0.)->None:\n",
    "    \"Create optimizer with `lr` learning rate and `wd` weight decay.\"\n",
    "    self.opt = myOptimWrapper.create(self.opt_func, lr, self.layer_groups,\n",
    "                                     wd=wd, true_wd=self.true_wd, bn_wd=self.bn_wd)"
   ]
  },
  {
   "cell_type": "code",
   "execution_count": 7,
   "metadata": {},
   "outputs": [],
   "source": [
    "Learner.create_opt = my_create_opt"
   ]
  },
  {
   "cell_type": "code",
   "execution_count": 8,
   "metadata": {},
   "outputs": [],
   "source": [
    "path = untar_data(URLs.MNIST_SAMPLE)\n",
    "data = ImageDataBunch.from_folder(path)"
   ]
  },
  {
   "cell_type": "code",
   "execution_count": 15,
   "metadata": {},
   "outputs": [],
   "source": [
    "learn = create_cnn(data, models.resnet18, metrics=accuracy,\n",
    "                   callback_fns=[partial(StepEpochEnd)])"
   ]
  },
  {
   "cell_type": "code",
   "execution_count": 16,
   "metadata": {},
   "outputs": [
    {
     "data": {
      "text/plain": [
       "[fastai.basic_train.Recorder,\n",
       " functools.partial(<class '__main__.StepEpochEnd'>)]"
      ]
     },
     "execution_count": 16,
     "metadata": {},
     "output_type": "execute_result"
    }
   ],
   "source": [
    "learn.callback_fns"
   ]
  },
  {
   "cell_type": "code",
   "execution_count": 21,
   "metadata": {},
   "outputs": [],
   "source": [
    "learn.opt.real_step??"
   ]
  },
  {
   "cell_type": "code",
   "execution_count": 17,
   "metadata": {},
   "outputs": [],
   "source": [
    "learn.loss_func = CrossEntropyFlat(reduction='mean')"
   ]
  },
  {
   "cell_type": "code",
   "execution_count": 18,
   "metadata": {},
   "outputs": [
    {
     "data": {
      "text/html": [
       "Total time: 00:29 <p><table style='width:300px; margin-bottom:10px'>\n",
       "  <tr>\n",
       "    <th>epoch</th>\n",
       "    <th>train_loss</th>\n",
       "    <th>valid_loss</th>\n",
       "    <th>accuracy</th>\n",
       "  </tr>\n",
       "  <tr>\n",
       "    <th>1</th>\n",
       "    <th>1.011151</th>\n",
       "    <th>0.898423</th>\n",
       "    <th>0.408734</th>\n",
       "  </tr>\n",
       "  <tr>\n",
       "    <th>2</th>\n",
       "    <th>0.714787</th>\n",
       "    <th>0.592207</th>\n",
       "    <th>0.676153</th>\n",
       "  </tr>\n",
       "  <tr>\n",
       "    <th>3</th>\n",
       "    <th>0.417709</th>\n",
       "    <th>0.342188</th>\n",
       "    <th>0.866045</th>\n",
       "  </tr>\n",
       "  <tr>\n",
       "    <th>4</th>\n",
       "    <th>0.316321</th>\n",
       "    <th>0.267099</th>\n",
       "    <th>0.904318</th>\n",
       "  </tr>\n",
       "  <tr>\n",
       "    <th>5</th>\n",
       "    <th>0.286497</th>\n",
       "    <th>0.236401</th>\n",
       "    <th>0.911678</th>\n",
       "  </tr>\n",
       "  <tr>\n",
       "    <th>6</th>\n",
       "    <th>0.266473</th>\n",
       "    <th>0.214437</th>\n",
       "    <th>0.921492</th>\n",
       "  </tr>\n",
       "  <tr>\n",
       "    <th>7</th>\n",
       "    <th>0.237963</th>\n",
       "    <th>0.201486</th>\n",
       "    <th>0.923454</th>\n",
       "  </tr>\n",
       "  <tr>\n",
       "    <th>8</th>\n",
       "    <th>0.234175</th>\n",
       "    <th>0.192990</th>\n",
       "    <th>0.931305</th>\n",
       "  </tr>\n",
       "  <tr>\n",
       "    <th>9</th>\n",
       "    <th>0.245454</th>\n",
       "    <th>0.187826</th>\n",
       "    <th>0.931796</th>\n",
       "  </tr>\n",
       "  <tr>\n",
       "    <th>10</th>\n",
       "    <th>0.233982</th>\n",
       "    <th>0.197862</th>\n",
       "    <th>0.928361</th>\n",
       "  </tr>\n",
       "</table>\n"
      ],
      "text/plain": [
       "<IPython.core.display.HTML object>"
      ]
     },
     "metadata": {},
     "output_type": "display_data"
    },
    {
     "name": "stdout",
     "output_type": "stream",
     "text": [
      "real step and zero grad\n",
      "real step and zero grad\n",
      "real step and zero grad\n",
      "real step and zero grad\n",
      "real step and zero grad\n",
      "real step and zero grad\n",
      "real step and zero grad\n",
      "real step and zero grad\n",
      "real step and zero grad\n",
      "real step and zero grad\n"
     ]
    }
   ],
   "source": [
    "learn.fit_one_cycle(10)"
   ]
  },
  {
   "cell_type": "code",
   "execution_count": 47,
   "metadata": {},
   "outputs": [],
   "source": [
    "for p in (learn.model.parameters()):\n",
    "    if p.requires_grad: p.grad.div_(10) "
   ]
  },
  {
   "cell_type": "code",
   "execution_count": 28,
   "metadata": {},
   "outputs": [],
   "source": [
    "p = next(learn.model.parameters())"
   ]
  },
  {
   "cell_type": "code",
   "execution_count": 33,
   "metadata": {},
   "outputs": [
    {
     "data": {
      "text/plain": [
       "False"
      ]
     },
     "execution_count": 33,
     "metadata": {},
     "output_type": "execute_result"
    }
   ],
   "source": [
    "p.requires_grad"
   ]
  },
  {
   "cell_type": "code",
   "execution_count": null,
   "metadata": {},
   "outputs": [],
   "source": []
  }
 ],
 "metadata": {
  "kernelspec": {
   "display_name": "Python 3",
   "language": "python",
   "name": "python3"
  },
  "language_info": {
   "codemirror_mode": {
    "name": "ipython",
    "version": 3
   },
   "file_extension": ".py",
   "mimetype": "text/x-python",
   "name": "python",
   "nbconvert_exporter": "python",
   "pygments_lexer": "ipython3",
   "version": "3.7.0"
  }
 },
 "nbformat": 4,
 "nbformat_minor": 2
}
